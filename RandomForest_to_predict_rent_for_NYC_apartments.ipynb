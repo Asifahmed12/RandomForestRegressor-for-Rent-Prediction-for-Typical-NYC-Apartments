{
 "cells": [
  {
   "cell_type": "markdown",
   "metadata": {
    "tags": []
   },
   "source": [
    "## DAB200 -- Graded Lab 1 using RandomForestRegressor for Rent Prediction for Typical NYC Apartments\n",
    "\n",
    "**Overall Objective**: Create a model that predicts rent prices as well as possible for typical New York City apartments."
   ]
  },
  {
   "cell_type": "markdown",
   "metadata": {},
   "source": [
    "### Part 0\n",
    "\n",
    "\n",
    " - **Group** **Number:** **05**\n",
    " \n",
    " - **Group** **Members:**\n",
    "     \n",
    "     - **Asif** **Ahmed** **(0823547)**\n",
    "     - **Sai** **Sri** **Kalyani** **Narapareddy** **(0827890)**\n",
    "     - **Vikrant** **Siwach** **(0824836)**\n",
    "\n",
    "     "
   ]
  },
  {
   "cell_type": "markdown",
   "metadata": {},
   "source": [
    "### **Part** **1** - **Creating** **and** **evaluating(Average** **of** **10** **Trials)** **an** **initial** **model:**\n",
    "\n",
    "#### **Code:**"
   ]
  },
  {
   "cell_type": "code",
   "execution_count": 5,
   "metadata": {},
   "outputs": [
    {
     "name": "stdout",
     "output_type": "stream",
     "text": [
      "Noised OOB score: 0.4815\n"
     ]
    }
   ],
   "source": [
    "# Importing the Required Libraries\n",
    "\n",
    "import pandas as pd\n",
    "import numpy as np\n",
    "from sklearn.ensemble import RandomForestRegressor\n",
    "from sklearn.model_selection import train_test_split\n",
    "\n",
    "# Reading Data From The csv File Assigned\n",
    "\n",
    "df = pd.read_csv(\"rent_5.csv\")\n",
    "\n",
    "# Preparing the Data or Modeling by Selecting the Features \n",
    "\n",
    "columns = ['bathrooms','bedrooms','longitude','latitude','price']\n",
    "\n",
    "df = df[columns]\n",
    "\n",
    "# Creating the Initial Model with Noised Data\n",
    "\n",
    "X = df.drop('price',axis=1)\n",
    "y = df['price']\n",
    "oob_list = []\n",
    "for i in range(0,10): \n",
    "  rf = RandomForestRegressor(n_estimators = 100, n_jobs=-1,oob_score=True)\n",
    "  rf.fit(X,y)\n",
    "  noise_oob = rf.oob_score_\n",
    "  oob_list.append(noise_oob)\n",
    "\n",
    "print(\"Noised OOB score:\",f\"{np.mean(oob_list):.4f}\")"
   ]
  },
  {
   "cell_type": "markdown",
   "metadata": {},
   "source": [
    "#### **Explanation** **for** **Part** **1:**\n",
    "\n",
    "- The main objective of this lab exercise is to create a model that can accurately predict rent prices for **typical** apartments in **New** **York** **City**.\n",
    "\n",
    "- To prepare the data for modeling, a subset of columns is selected. The dataset initially was composed of 16 columns, out of which 11 columns were excluded from the modeling process. Among these exclusions, nine columns were of 'object' datatype, while the other two columns(num_desc_count, mgr_apt_count) were of 'numerical' datatype. These exclusions were made due to the lack of substantial evidence that they had any correlation with the 'rent price', which is our target avriable.\n",
    "\n",
    "- Our model focuses solely on numerical features to make predictions.\n",
    "\n",
    "- For the modeling process, five columns were selected based on their relevance and absence of missing values. Four of these columns (bathrooms, bedrooms, longitude, and latitude) serve as independent variables, while the price column represents the dependent variable.\n",
    "\n",
    "- Moving on, an initial model is created using the RandomForestRegressor. The code  iterates 10 times, creating random forest models with 100 estimators and using all available processors (`n_jobs=-1`).\n",
    "\n",
    "- The noised OOB score represents the model's performance when trained on the initial data, without any denoising or data cleaning. It gives an indication of the predictive capability of the model.\n",
    "\n",
    "- The printed statement **\"Noised OOB score: 0.48\"** displays the average noised OOB score. This score is an important metric in evaluating the initial model's performance and provides insights into the amount of noise present in the data.\n",
    "\n",
    "- Overall, the code accomplishes the objective of creating an initial model to predict rent prices for typical New York City apartments. The subsequent steps involve denoising and data cleaning to improve the model's accuracy and enhance its predictive capabilities."
   ]
  },
  {
   "cell_type": "markdown",
   "metadata": {},
   "source": [
    "### **Part** **2** - **Denoising** **the** **data:**\n",
    "\n",
    "#### **Code:**"
   ]
  },
  {
   "cell_type": "code",
   "execution_count": 2,
   "metadata": {},
   "outputs": [],
   "source": [
    "#Denoising data\n",
    "\n",
    "# Filtering data based on longitude & latitude\n",
    "df_ny = df[(df.latitude>=40.5795) & (df.latitude<=40.8448) & (df.longitude<=-73.7949) & (df.longitude>=-74.1502)]\n",
    "df_ny.reset_index(drop=True)\n",
    "\n",
    "# Filtering data based on price,bedroom and bathroom (for typical new york apartments)\n",
    "df_ny = df_ny[(df_ny['price']>800) & (df_ny['price']<=14000)]\n",
    "df_ny = df_ny[df_ny['bedrooms']<5]\n",
    "df_ny = df_ny[df_ny['bathrooms']>0]\n",
    "\n",
    "#df_ny.shape (17815,5)"
   ]
  },
  {
   "cell_type": "markdown",
   "metadata": {},
   "source": [
    "### **Part** **3** - **Creating** **and** **evaluating** **the** **Final** **Model**\n",
    "\n",
    "#### **Code:**"
   ]
  },
  {
   "cell_type": "code",
   "execution_count": 3,
   "metadata": {},
   "outputs": [
    {
     "name": "stdout",
     "output_type": "stream",
     "text": [
      "De-noised OOB score: 0.8244\n"
     ]
    }
   ],
   "source": [
    "# Final Model creation and evaluation\n",
    "\n",
    "X = df_ny.drop('price',axis=1)\n",
    "y = df_ny['price']\n",
    "score_list = []\n",
    "for i in range(0,10):\n",
    "    rf1 = RandomForestRegressor(n_estimators = 100, n_jobs=-1,oob_score=True)\n",
    "    rf1.fit(X,y)\n",
    "    denoise_oob = rf1.oob_score_\n",
    "    score_list.append(denoise_oob)\n",
    "\n",
    "print(\"De-noised OOB score:\",f\"{np.mean(score_list):.4f}\")"
   ]
  },
  {
   "cell_type": "markdown",
   "metadata": {},
   "source": [
    "#### **Explanation** **for** **Part** **3:**\n",
    "\n",
    "- In `Part 2`, the focus was on denoising the data to improve the accuracy of the model. The code in Part 3 builds upon the denoised data obtained from Part 2 and creates the final model while evaluating its performance.\n",
    "\n",
    "- The code calculates the out-of-bag (OOB) score, which measures the accuracy of the model on unseen data, and provides the average de-noised OOB score as a metric for evaluating the model's performance.\n",
    "\n",
    "- The final model yields an **OOB score of 0.82(approx)**, signifying that **the model accurately predicts 82% of the data it operates on**.The enhanced OOB score clearly demonstrates that the performance of the model has improved compared to the initial model.\n",
    "\n",
    "The enhanced OOB score clearly demonstrates that the performance of the model has improved compared to the initial model. The process of denoising the data has played a crucial role in augmenting the model's predictive capacity. By eliminating irregularities in the data, the denoising step facilitates improved training and enables the model to more clearly identify relational patterns between the independent and dependent variables."
   ]
  },
  {
   "cell_type": "markdown",
   "metadata": {},
   "source": [
    "### **Part** **4** - **Documenting** **the** **problems:**\n"
   ]
  },
  {
   "cell_type": "markdown",
   "metadata": {},
   "source": [
    "| Feature | Data issue discovered | Why is this a problem? | How did you fix it? | Why is this fix appropriate? |\n",
    "| :-| :- | :- | :- | :- | \n",
    "| **Longitude** | Presence of non-New York City entries based on longitude values for NYC | The dataset initially includes entries that are not specific to New York City. This can be problematic because we are focusing on predicting rental prices for typical New York City apartments. If the data includes entries from other cities, it will introduce noise and bias to the model, leading to inaccurate predictions. | Filtered the data to include minimum value to longitude range of New York City i.e,<a href=\"https://bit.ly/43C9k1l\"> <b>Minimum longitude = -74.1502</b></a> | This ensures that the data is specific to New York City |\n",
    "| **Longitude** | Presence of non-New York City entries based on longitude values for NYC | `Same as above` | Filtered the data to include maximum value to longitude range of New York City i.e,<a href=\"https://bit.ly/43C9k1l\"> <b>Maximum longitude = -73.7949</b></a> | This ensures that the data is specific to New York City |\n",
    "| **Latitude** | Presence of non-New York City entries based on latitude values for NYC | Similar to the longitude issue, the dataset may contain entries from cities other than New York based on latitude coordinates. This poses a problem because the rental market in different cities can vary significantly. By filtering the data based on the latitude range of New York City, we can ensure that only entries from New York City are included, providing a more focused and accurate representation of the rental market in the city. | Filtered the data to include minimum value to longitude range of New York City i.e,<a href=\"https://bit.ly/43C9k1l\"> <b>Minimum latitude = 40.5795</b></a> | This ensures that the data is specific to New York City |\n",
    "| **Latitude** | Presence of non-New York City entries based on latitude values for NYC | `Same as above` | Filtered the data to include minimum value to longitude range of New York City i.e,<a href=\"https://bit.ly/43C9k1l\"> <b>Minimum latitude = 40.8448</b></a> | This ensures that the data is specific to New York City |\n",
    "| **Price** | Exclusion of **negative price** apartments | We have a few observations in our data with price values in negative range which is not possible. As we have no substantial reason behind wrong values in price we cannot fix it and hence, it will be better to remove them from training set of our model. | By filtering the data for prices above zero (0), we can remove all observations with negative price value. | This ensures that the data has all possible value for price of apartments. |\n",
    "| **Price** | Inputting a **minimum threshold** for price range | Some apartments have unusually low prices and as per our research, the starting average price for studio apartment (apartment with lowest amount of bedroom possible) is approximatelty **USD800** and hence, going with the available resources, we will also be setting a minimum threshold to price | Filtered the data to implement a minimum range to price i.e,<a href=\"https://bit.ly/3OSGg1f\"> <b>Minimum Price = USD800</b></a> | This ensures that the data represents typical New York City apartment prices |\n",
    "| **Price** | Inputting a **maximum threshold** for price range | Some apartments have unusually high prices and as per our research, the maximum average price for 4 bedrooms apartment is approximatelty **USD14,000** and hence, going with the available resources, we will also be setting a maximum threshold to price | Filtered the data to implement a maximum range to price i.e,<a href=\"https://bit.ly/3N7UmJZ\"> <b>Maximum Price = USD14,000</b></a> | This ensures that the data represents typical New York City apartment prices |\n",
    "| **Bedrooms** | Exclusion of apartments with excessive bedrooms | According to market resource, any typical New York city apartment consists of **maximum 4 bedrooms apartment** and anything above that is not considered as an apartment and hence, going with the mentioned resource, we will be removing all bedrooms above 4. | Filtered the data to implement a maximum range to bedrooms i.e, <a href=\"https://bit.ly/3N7UmJZ\"> <b>Bedrooms >=4 </b></a> | This aligns with the typical number of bedrooms in New York City apartments |\n",
    "| **Bathrooms** | Exclusion of **zero (0) Bathrooms** | Typical apartments generally don't have zero bathrooms or in simpler terms, all apartment have a specific number of bathrooms. Hence, we will be removing observations with zero bathrooms value. | Removed the observations that have 'bathrooms' column's value as zero | This aligns with the typical apartments and it's respective features |\n",
    "\n",
    "\n",
    "\n",
    "\n",
    "Through the implementation of these data fixes, filtering the data based on longitude and latitude coordinates, we have ensured that the dataset only consists of entries within the geographical boundaries of New York City. Additionally, we have addressed outliers by excluding apartments with unusually low or high prices, as well as apartments with an excessive number of bedrooms.\n",
    "\n",
    "These fixes are crucial in improving the accuracy of the model's predictions for rent prices of typical apartments in New York City. By focusing the dataset on relevant entries and removing outliers, we create a more representative and reliable dataset. This alignment with the overall objective of the lab exercise enables the model to capture the true patterns and trends specific to the New York City rental market, resulting in more accurate predictions for typical apartment rent prices."
   ]
  },
  {
   "cell_type": "markdown",
   "metadata": {},
   "source": [
    "**References:**\n",
    "\n",
    "- https://www.latlong.net/place/new-york-city-ny-usa-1848.html#:~:text=The%20latitude%20of%20New%20York,%C2%B0%2056%27%206.8712%27%27%20W. \n",
    "\n",
    "- https://mlbook.explained.ai/prep.html\n",
    "\n",
    "- https://www.zillow.com/rental-manager/market-trends/new-york-ny/?propertyTypes=apartment-condo&bedrooms=4plus\n",
    "\n",
    "- https://www.zumper.com/rent-research/new-york-ny \n",
    "\n",
    "On both of these websites listed above the Maximum number of Bedrooms you can pick for a Typical Apartment in NYC can't be over 4 bedrooms, which supports our decision to cap the number of bedrooms at 4 for our Final Model.\n",
    "\n",
    "- https://sellingnewyork.nyc/blog/2017/11/29/understanding-room-counts-in-nyc-sales\n",
    "\n",
    "- https://www.nyhome.com/sizes-of-apartments-in-manhattan.html\n",
    "\n",
    "The above two sources state that NYC labels its real estate for apartmets as Studio until a classic 8 which also tops off at 3 bedrooms, so anything above 4 bedrooms is not considered a **typical NYC apartment**.\n",
    "\n",
    "- https://streeteasy.com/blog/types-of-apartments-nyc/"
   ]
  }
 ],
 "metadata": {
  "kernelspec": {
   "display_name": "Python 3 (ipykernel)",
   "language": "python",
   "name": "python3"
  },
  "language_info": {
   "codemirror_mode": {
    "name": "ipython",
    "version": 3
   },
   "file_extension": ".py",
   "mimetype": "text/x-python",
   "name": "python",
   "nbconvert_exporter": "python",
   "pygments_lexer": "ipython3",
   "version": "3.9.16"
  }
 },
 "nbformat": 4,
 "nbformat_minor": 4
}
